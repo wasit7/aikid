{
 "cells": [
  {
   "cell_type": "code",
   "execution_count": 53,
   "metadata": {},
   "outputs": [
    {
     "data": {
      "text/plain": [
       "[<matplotlib.lines.Line2D at 0x7faf0617b2e8>]"
      ]
     },
     "execution_count": 53,
     "metadata": {},
     "output_type": "execute_result"
    },
    {
     "data": {
      "image/png": "[encoded data removed]",
      "text/plain": [
       "<Figure size 432x288 with 1 Axes>"
      ]
     },
     "metadata": {
      "needs_background": "light"
     },
     "output_type": "display_data"
    }
   ],
   "source": [
    "%matplotlib inline\n",
    "import matplotlib.pyplot as plt\n",
    "import numpy as np\n",
    "n=200\n",
    "\n",
    "#polar coordinate\n",
    "r1=5+np.random.randn(n)\n",
    "theta1=np.random.rand(n)*2.0*np.pi\n",
    "\n",
    "r2=1+np.random.randn(n)\n",
    "theta2=np.random.rand(n)*2.0*np.pi\n",
    "\n",
    "x1=np.concatenate( (r1*np.cos(theta1), r2*np.cos(theta2)))\n",
    "x2=np.concatenate( (r1*np.sin(theta1), r2*np.sin(theta2)))\n",
    "yt=np.ones( (2*n,1))\n",
    "yt[n:]=-1\n",
    "plt.axis('equal')\n",
    "plt.plot(x1[(yt==1)[:,0]],x2[(yt==1)[:,0]],'ob')\n",
    "plt.plot(x1[(yt==-1)[:,0]],x2[(yt==-1)[:,0]],'or')"
   ]
  },
  {
   "cell_type": "code",
   "execution_count": 54,
   "metadata": {},
   "outputs": [
    {
     "data": {
      "text/plain": [
       "(400, 2)"
      ]
     },
     "execution_count": 54,
     "metadata": {},
     "output_type": "execute_result"
    }
   ],
   "source": [
    "x=np.concatenate( (x1.reshape((-1,1)), x2.reshape((-1,1))), axis=1 )\n",
    "x.shape"
   ]
  },
  {
   "cell_type": "code",
   "execution_count": 37,
   "metadata": {},
   "outputs": [],
   "source": [
    "def forward(a,w,b):\n",
    "    z=np.dot(a,w)+b\n",
    "    return np.tanh(z)\n",
    "\n",
    "def g(a):\n",
    "    return 1-a*a"
   ]
  },
  {
   "cell_type": "code",
   "execution_count": 75,
   "metadata": {},
   "outputs": [
    {
     "name": "stdout",
     "output_type": "stream",
     "text": [
      "Loss: 1.0900711442556463\n",
      "Loss: 0.7336121977358061\n",
      "Loss: 0.6280848148148159\n",
      "Loss: 0.7962283019796561\n",
      "Loss: 0.942161044030252\n",
      "Loss: 0.6821206569656469\n",
      "Loss: 0.6100762892201987\n",
      "Loss: 0.6154540453550703\n",
      "Loss: 0.6949736000931029\n",
      "Loss: 0.57335403226035\n"
     ]
    }
   ],
   "source": [
    "k0=2\n",
    "k1=3\n",
    "k2=1\n",
    "w1=np.random.randn(k0,k1)\n",
    "b1=np.random.randn(1,k1)\n",
    "w2=np.random.randn(k1,k2)\n",
    "b2=np.random.randn(1,k2)\n",
    "m=100\n",
    "alpha=0.01\n",
    "for i in range(m):\n",
    "    #forward\n",
    "    a1=x\n",
    "    a2=forward(a1,w1,b1)\n",
    "    a3=forward(a2,w2,b2)\n",
    "    yp=a3\n",
    "    L=0.5*np.average((yp-yt)*(yp-yt))\n",
    "    #back propagation\n",
    "        \n",
    "    da3= (yp-yt)*g(a3)\n",
    "    dz2= np.dot(da3,w2.T)\n",
    "    da2= dz2*g(a2)\n",
    "    \n",
    "    \n",
    "    w1=w1-alpha*np.dot(a1.T, da2)\n",
    "    b1=b1-alpha*np.sum(a2,axis=0)\n",
    "    \n",
    "    w2=w2-alpha*np.dot(a2.T, da3)\n",
    "    b2=b2-alpha*np.sum(a3,axis=0)\n",
    "    \n",
    "    if i%(m//10)==0:\n",
    "        print(\"Loss: %s\"%L)\n",
    "        #print(\" w1:%s, b1:%s, w2:%s, b2:%s \"%(w1,b1,w2,b2) )"
   ]
  },
  {
   "cell_type": "code",
   "execution_count": 72,
   "metadata": {},
   "outputs": [
    {
     "data": {
      "text/plain": [
       "array([[0., 0., 0.],\n",
       "       [0., 0., 0.],\n",
       "       [0., 0., 0.],\n",
       "       ...,\n",
       "       [0., 0., 0.],\n",
       "       [0., 0., 0.],\n",
       "       [0., 0., 0.]])"
      ]
     },
     "execution_count": 72,
     "metadata": {},
     "output_type": "execute_result"
    }
   ],
   "source": [
    "a2"
   ]
  },
  {
   "cell_type": "code",
   "execution_count": 40,
   "metadata": {},
   "outputs": [
    {
     "data": {
      "text/plain": [
       "(400, 1)"
      ]
     },
     "execution_count": 40,
     "metadata": {},
     "output_type": "execute_result"
    }
   ],
   "source": [
    "a3.shape"
   ]
  },
  {
   "cell_type": "code",
   "execution_count": 41,
   "metadata": {},
   "outputs": [
    {
     "data": {
      "text/plain": [
       "(400,)"
      ]
     },
     "execution_count": 41,
     "metadata": {},
     "output_type": "execute_result"
    }
   ],
   "source": [
    "yt.shape"
   ]
  },
  {
   "cell_type": "code",
   "execution_count": null,
   "metadata": {},
   "outputs": [],
   "source": []
  }
 ],
 "metadata": {
  "kernelspec": {
   "display_name": "Python 3",
   "language": "python",
   "name": "python3"
  },
  "language_info": {
   "codemirror_mode": {
    "name": "ipython",
    "version": 3
   },
   "file_extension": ".py",
   "mimetype": "text/x-python",
   "name": "python",
   "nbconvert_exporter": "python",
   "pygments_lexer": "ipython3",
   "version": "3.6.9"
  }
 },
 "nbformat": 4,
 "nbformat_minor": 4
}
